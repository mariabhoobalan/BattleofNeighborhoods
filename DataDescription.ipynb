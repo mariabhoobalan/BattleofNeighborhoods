{
 "cells": [
  {
   "cell_type": "markdown",
   "metadata": {},
   "source": [
    "# The battle of neighborhoods\n",
    "\n",
    "## Data description\n",
    "\n",
    "### Data about neighborhoods\n",
    "In order to perform the analysis for the project. we required the locations of existing accomodations(Hotels, Motels) and laundromats. The data gathering starts with capturing all the neighbourhoods in Toronto. This data can be fetched from the following Wiki Link\n",
    "https://en.wikipedia.org/wiki/List_of_postal_codes_of_Canada:_M (oldid: 954731857)\n",
    "\n",
    "The data will be scrapped and processed to be ready for the analysis.\n",
    "\n",
    "### Geo coordinates\n",
    "The geographical coordinates for each of the neighbourhoods can be obtained by downloading the data in csv from the following link\n",
    "https://cf-courses-data.s3.us.cloud-object-storage.appdomain.cloud/IBMDeveloperSkillsNetwork-DS0701EN-SkillsNetwork/labs_v1/Geospatial_Coordinates.csv\")\n",
    "\n",
    "### Data selection\n",
    "Data corresponding to the neighborhood of Toronto alone will be considered for this study. Filtering is done based on Borough that contains 'Toronto' in it. \n",
    "\n",
    "### Foursquare API\n",
    "The geo locations for the required neighborhoods will be fed into the Foursquare API along with keywords like hotels, motels, laudry, laundromats to fetch the corresponding data. \n",
    "\n",
    "Clustering will be done on the above mentioned data for Laundromats and Hotels seperately. \n",
    "\n",
    "Folium map will be used to visualize the clusters, using which the conclusion will be arrived. "
   ]
  },
  {
   "cell_type": "code",
   "execution_count": null,
   "metadata": {},
   "outputs": [],
   "source": []
  }
 ],
 "metadata": {
  "kernelspec": {
   "display_name": "Python 3",
   "language": "python",
   "name": "python3"
  },
  "language_info": {
   "codemirror_mode": {
    "name": "ipython",
    "version": 3
   },
   "file_extension": ".py",
   "mimetype": "text/x-python",
   "name": "python",
   "nbconvert_exporter": "python",
   "pygments_lexer": "ipython3",
   "version": "3.7.3"
  }
 },
 "nbformat": 4,
 "nbformat_minor": 2
}
