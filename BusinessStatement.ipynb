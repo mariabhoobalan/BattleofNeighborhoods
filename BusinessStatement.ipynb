{
 "cells": [
  {
   "cell_type": "markdown",
   "metadata": {},
   "source": [
    "# Battle of Neighborhoods"
   ]
  },
  {
   "cell_type": "markdown",
   "metadata": {},
   "source": [
    "## Business problem \n",
    "\n",
    "### Introduction\n",
    "\n",
    "The purpose of this project is to identify the best possible location to establish a laundromat in a given city/neighborhood. \n",
    "\n",
    "The city consider for this study is Toronto, Canada.Toronto is the capital city of the Canadian province of Ontario and is the most populous city in Canada and the fourth most populous city in North America.Toronto is an international centre of business, finance, arts, and culture, and is recognized as one of the most multicultural and cosmopolitan cities in the world. \n",
    "\n",
    "With numerous museums and galleries, festivals and public events, entertainment districts, national historic sites, and sports activities, attract over 43 million tourists each year. With the huge inflex of tourists, the demand of hotels and BnB stays keeps increasing in multifold. This has a direct influenze in the demand for laundromat services as well. \n",
    "\n",
    "The Project aims at helping the laundromat business to establish new services in places where the demand is high but not met. There by helping to provide a profitable laundry service with less competition. This would eventually play a key role in influenzing the touritst to choose the near by accomodations for their visit\n",
    "\n",
    "### Problem statement\n",
    "\n",
    "The major purpose of the project is to identify the areas in Toronto where the laundromat/Hotels ratio is low, so it can be considered for establishing new laundromat establishments.\n",
    "\n",
    "### Location\n",
    "\n",
    "Toronto,Canada With numerous museums and galleries, festivals and public events, entertainment districts, national historic sites, and sports activities, attract over 43 million tourists each year is considered for this study\n",
    "\n",
    "\n",
    "### Location data provider\n",
    "\n",
    "This project would use Four-square API as its location data gathering source. The Foursquare Places API provides location based experiences with diverse information about venues, users, photos, and check-ins. The API supports real time access to places, Snap-to-Place that assigns users to specific locations, and Geo-tag.\n",
    "\n",
    "\n",
    "### Clustering\n",
    "\n",
    "Heirarchical Clustering will be used in this project. This is because there is no need for a cluster number to be selected and the custering can be purely based on the distance between the venues. The resulting clusters were plotted on a Folium map.\n",
    "\n",
    "### Libraries used\n",
    "\n",
    "Beautiful Soup and Requests: To scrap and library to handle http requests.\n",
    "\n",
    "Pandas: For creating and manipulating dataframes\n",
    "\n",
    "numpy: To handle data in a vectorized manner\n",
    "\n",
    "csv: To handle the data in csv format\n",
    "\n",
    "Folium: Python visualization library would be used to visualize the neighborhoods cluster distribution of using interactive leaflet map.\n",
    "\n",
    "Nominatim (geopy.geocoders): module to convert an address into latitude and longitude values\n",
    "\n",
    "\n"
   ]
  },
  {
   "cell_type": "code",
   "execution_count": null,
   "metadata": {},
   "outputs": [],
   "source": []
  }
 ],
 "metadata": {
  "kernelspec": {
   "display_name": "Python 3",
   "language": "python",
   "name": "python3"
  },
  "language_info": {
   "codemirror_mode": {
    "name": "ipython",
    "version": 3
   },
   "file_extension": ".py",
   "mimetype": "text/x-python",
   "name": "python",
   "nbconvert_exporter": "python",
   "pygments_lexer": "ipython3",
   "version": "3.7.3"
  }
 },
 "nbformat": 4,
 "nbformat_minor": 2
}
